{
 "cells": [
  {
   "cell_type": "code",
   "execution_count": 1,
   "id": "361982cf",
   "metadata": {},
   "outputs": [],
   "source": [
    "import os\n",
    "\n",
    "import hydra\n",
    "from omegaconf import OmegaConf, DictConfig"
   ]
  },
  {
   "cell_type": "code",
   "execution_count": 2,
   "id": "eb286729",
   "metadata": {},
   "outputs": [
    {
     "data": {
      "text/plain": [
       "hydra.initialize_config_dir()"
      ]
     },
     "execution_count": 2,
     "metadata": {},
     "output_type": "execute_result"
    }
   ],
   "source": [
    "config_dir = os.path.join(os.getcwd(), 'config')\n",
    "hydra.core.global_hydra.GlobalHydra.instance().clear()\n",
    "hydra.initialize_config_dir(config_dir=config_dir, job_name=\"doesn't matter\", version_base=None)"
   ]
  },
  {
   "cell_type": "code",
   "execution_count": 3,
   "id": "ba073362",
   "metadata": {},
   "outputs": [
    {
     "name": "stderr",
     "output_type": "stream",
     "text": [
      "C:\\Users\\jsyoo\\anaconda3\\envs\\selfmodel\\lib\\site-packages\\hydra\\_internal\\defaults_list.py:251: UserWarning: In 'train_cfg': Defaults list is missing `_self_`. See https://hydra.cc/docs/upgrades/1.0_to_1.1/default_composition_order for more information\n",
      "  warnings.warn(msg, UserWarning)\n"
     ]
    }
   ],
   "source": [
    "overrides = []\n",
    "cfg = hydra.compose(config_name='train_cfg', overrides=overrides)"
   ]
  },
  {
   "cell_type": "code",
   "execution_count": 4,
   "id": "150a87f2",
   "metadata": {},
   "outputs": [
    {
     "name": "stdout",
     "output_type": "stream",
     "text": [
      "package_1:\n",
      "  attribute: option1\n",
      "data_dir: some_data_dir\n",
      "model: RNN\n",
      "train:\n",
      "  lr: 0.001\n",
      "  batch_size: 256\n",
      "\n",
      "data_dir: some_data_dir\n",
      "learning rate: 0.001\n"
     ]
    }
   ],
   "source": [
    "print(OmegaConf.to_yaml(cfg))\n",
    "\n",
    "# Example of using OmegaConf.DictConfig object\n",
    "print(f'data_dir: {cfg.data_dir}')\n",
    "print(f'learning rate: {cfg.train.lr}')"
   ]
  },
  {
   "cell_type": "code",
   "execution_count": 5,
   "id": "5c0b8cbf",
   "metadata": {},
   "outputs": [],
   "source": [
    "import logging\n",
    "import sys\n",
    "log = logging.getLogger(__name__)\n",
    "log.addHandler(logging.StreamHandler(sys.stdout))"
   ]
  },
  {
   "cell_type": "code",
   "execution_count": 6,
   "id": "bcfdddf6",
   "metadata": {
    "scrolled": true
   },
   "outputs": [
    {
     "name": "stdout",
     "output_type": "stream",
     "text": [
      "info level message\n",
      "debug level message\n",
      "info level message\n"
     ]
    }
   ],
   "source": [
    "log.setLevel(logging.DEBUG)\n",
    "log.info('info level message')\n",
    "log.debug('debug level message')\n",
    "\n",
    "log.setLevel(logging.INFO) # May set to logging.DEBUG\n",
    "log.info('info level message')\n",
    "log.debug('debug level message')"
   ]
  },
  {
   "cell_type": "markdown",
   "id": "5fa0e947",
   "metadata": {},
   "source": [
    "# Write new code below"
   ]
  },
  {
   "cell_type": "code",
   "execution_count": 7,
   "id": "61983801",
   "metadata": {},
   "outputs": [],
   "source": [
    "# Start coding!"
   ]
  }
 ],
 "metadata": {
  "kernelspec": {
   "display_name": "selfmodel",
   "language": "python",
   "name": "selfmodel"
  },
  "language_info": {
   "codemirror_mode": {
    "name": "ipython",
    "version": 3
   },
   "file_extension": ".py",
   "mimetype": "text/x-python",
   "name": "python",
   "nbconvert_exporter": "python",
   "pygments_lexer": "ipython3",
   "version": "3.9.12"
  }
 },
 "nbformat": 4,
 "nbformat_minor": 5
}
