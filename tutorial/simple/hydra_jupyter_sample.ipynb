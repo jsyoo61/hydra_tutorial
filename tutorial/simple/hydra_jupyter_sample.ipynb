{
 "cells": [
  {
   "cell_type": "code",
   "execution_count": 1,
   "id": "361982cf",
   "metadata": {},
   "outputs": [],
   "source": [
    "import hydra\n",
    "from omegaconf import OmegaConf, DictConfig"
   ]
  },
  {
   "cell_type": "code",
   "execution_count": 2,
   "id": "eb286729",
   "metadata": {},
   "outputs": [
    {
     "name": "stderr",
     "output_type": "stream",
     "text": [
      "C:\\Users\\jsyoo\\AppData\\Local\\Temp\\ipykernel_29580\\2831976817.py:2: UserWarning: \n",
      "The version_base parameter is not specified.\n",
      "Please specify a compatability version level, or None.\n",
      "Will assume defaults for version 1.1\n",
      "  hydra.initialize_config_dir(config_dir='C:\\\\Users\\\\jsyoo\\\\Mirror\\\\Metaconscious Lab\\\\Research\\\\SelfModel\\\\code_SelfModel\\\\config', job_name='debug')\n"
     ]
    },
    {
     "data": {
      "text/plain": [
       "hydra.initialize_config_dir()"
      ]
     },
     "execution_count": 2,
     "metadata": {},
     "output_type": "execute_result"
    }
   ],
   "source": [
    "hydra.core.global_hydra.GlobalHydra.instance().clear()\n",
    "hydra.initialize_config_dir(config_dir='C:\\\\Users\\\\jsyoo\\\\Mirror\\\\Metaconscious Lab\\\\Research\\\\SelfModel\\\\code_SelfModel\\\\config', job_name='debug')"
   ]
  },
  {
   "cell_type": "code",
   "execution_count": 3,
   "id": "ba073362",
   "metadata": {},
   "outputs": [],
   "source": [
    "overrides = []\n",
    "cfg = hydra.compose(config_name='train_cfg', overrides=overrides)"
   ]
  },
  {
   "cell_type": "code",
   "execution_count": 4,
   "id": "150a87f2",
   "metadata": {},
   "outputs": [
    {
     "name": "stdout",
     "output_type": "stream",
     "text": [
      "agent:\n",
      "  hack:\n",
      "    cfg_train:\n",
      "      lr: 0.0003\n",
      "      batch_size: 64\n",
      "      epoch: 10\n",
      "    actorcritic:\n",
      "      _target_: stable_baselines3.PPO\n",
      "    model_type:\n",
      "      _target_: stable_baselines3.PPO\n",
      "    policy_type:\n",
      "      _target_: MultiInputPolicy\n",
      "  discount: 0.99\n",
      "  lambda_gae: 0.95\n",
      "  buffer_size: 2048\n",
      "  workingmemory_size: 1\n",
      "AgentClass:\n",
      "  _target_: agents.SimpleAgent\n",
      "  _recursive_: false\n",
      "env:\n",
      "  _target_: environment.SimplePredatorEnvContinuous\n",
      "  mapsize:\n",
      "  - 10\n",
      "  - 10\n",
      "  hopsize: 1\n",
      "  threshold_death: 1\n",
      "  threshold_reward: 1\n",
      "  maxsteps: 1000\n",
      "train:\n",
      "  train_interval: 64\n",
      "  episode: 400\n",
      "run:\n",
      "  random_seed: 0\n",
      "  random_strict: false\n",
      "eval:\n",
      "  visualize: true\n",
      "  test_episode: 400\n",
      "\n"
     ]
    }
   ],
   "source": [
    "print(OmegaConf.to_yaml(cfg))"
   ]
  },
  {
   "cell_type": "code",
   "execution_count": 7,
   "id": "5c0b8cbf",
   "metadata": {},
   "outputs": [
    {
     "name": "stdout",
     "output_type": "stream",
     "text": [
      "logging set\n",
      "logging set\n",
      "debug level message\n",
      "debug level message\n"
     ]
    }
   ],
   "source": [
    "import logging\n",
    "import sys\n",
    "log = logging.getLogger(__name__)\n",
    "log.addHandler(logging.StreamHandler(sys.stdout))"
   ]
  },
  {
   "cell_type": "code",
   "execution_count": 8,
   "id": "bcfdddf6",
   "metadata": {},
   "outputs": [
    {
     "name": "stdout",
     "output_type": "stream",
     "text": [
      "logging set\n",
      "logging set\n",
      "logging set\n",
      "logging set\n",
      "debug level message\n",
      "debug level message\n"
     ]
    }
   ],
   "source": [
    "log.setLevel(logging.DEBUG)\n",
    "log.info('info level message')\n",
    "log.debug('debug level message')\n",
    "\n",
    "log.setLevel(logging.INFO) # May set to logging.DEBUG\n",
    "log.info('info level message')\n",
    "log.debug('debug level message')"
   ]
  },
  {
   "cell_type": "code",
   "execution_count": null,
   "id": "744c7626",
   "metadata": {},
   "outputs": [],
   "source": []
  }
 ],
 "metadata": {
  "kernelspec": {
   "display_name": "selfmodel",
   "language": "python",
   "name": "selfmodel"
  },
  "language_info": {
   "codemirror_mode": {
    "name": "ipython",
    "version": 3
   },
   "file_extension": ".py",
   "mimetype": "text/x-python",
   "name": "python",
   "nbconvert_exporter": "python",
   "pygments_lexer": "ipython3",
   "version": "3.9.12"
  }
 },
 "nbformat": 4,
 "nbformat_minor": 5
}
