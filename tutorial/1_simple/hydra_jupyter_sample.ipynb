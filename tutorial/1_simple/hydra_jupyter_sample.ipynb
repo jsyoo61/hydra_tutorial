{
 "cells": [
  {
   "cell_type": "markdown",
   "id": "2548bccc",
   "metadata": {},
   "source": [
    "# Jupyter notebook example of using hydra.\n",
    "I recommend using jupyter (interactive coding) for development,\\\n",
    "and then moving the code to a `.py` file for running the experiments,\\\n",
    "to use the functionalities (working directory changing, logging, parameter sweeps, etc) of hydra.\n",
    "\n",
    "Documentation is [here](https://hydra.cc/docs/advanced/jupyter_notebooks/)."
   ]
  },
  {
   "cell_type": "code",
   "execution_count": 1,
   "id": "361982cf",
   "metadata": {},
   "outputs": [],
   "source": [
    "import os\n",
    "\n",
    "import hydra\n",
    "from omegaconf import OmegaConf, DictConfig"
   ]
  },
  {
   "cell_type": "markdown",
   "id": "16133620",
   "metadata": {},
   "source": [
    "Define `config_dir`. `config_dir` has to be absolute path when run in interactive script, whereas it could be relative within script using `@hydra.main(config_dir=config_dir)`."
   ]
  },
  {
   "cell_type": "code",
   "execution_count": 2,
   "id": "eb286729",
   "metadata": {},
   "outputs": [
    {
     "data": {
      "text/plain": [
       "hydra.initialize_config_dir()"
      ]
     },
     "execution_count": 2,
     "metadata": {},
     "output_type": "execute_result"
    }
   ],
   "source": [
    "config_dir = os.path.join(os.getcwd(), 'config')\n",
    "hydra.core.global_hydra.GlobalHydra.instance().clear()\n",
    "hydra.initialize_config_dir(config_dir=config_dir, job_name=\"doesn't matter\", version_base=None)"
   ]
  },
  {
   "cell_type": "markdown",
   "id": "49bed079",
   "metadata": {},
   "source": [
    "Command line overrides can be defined in a `list`.\\\n",
    "`python hydra_sample.py +new_variable=0` from a command line is equivalent to \\\n",
    "`overrides = ['+new_variable=0']` within interactive script."
   ]
  },
  {
   "cell_type": "code",
   "execution_count": 3,
   "id": "ba073362",
   "metadata": {},
   "outputs": [],
   "source": [
    "overrides = []\n",
    "cfg = hydra.compose(config_name='train_cfg', overrides=overrides)"
   ]
  },
  {
   "cell_type": "markdown",
   "id": "8243a453",
   "metadata": {},
   "source": [
    "The `cfg` variable returned is a [`OmegaConf.DictConfig`](https://hydra.cc/docs/tutorials/basic/your_first_app/using_config/) object. It is a nested dict where items could be accessed with `.`(class attribute) notation."
   ]
  },
  {
   "cell_type": "code",
   "execution_count": 4,
   "id": "150a87f2",
   "metadata": {},
   "outputs": [
    {
     "name": "stdout",
     "output_type": "stream",
     "text": [
      "data_dir: some_data_dir\n",
      "model: RNN\n",
      "train:\n",
      "  lr: 0.001\n",
      "  batch_size: 256\n",
      "\n",
      "data_dir: some_data_dir\n",
      "learning rate: 0.001\n"
     ]
    }
   ],
   "source": [
    "print(OmegaConf.to_yaml(cfg))\n",
    "\n",
    "# Example of using OmegaConf.DictConfig object\n",
    "print(f'data_dir: {cfg.data_dir}')\n",
    "print(f'learning rate: {cfg.train.lr}')"
   ]
  },
  {
   "cell_type": "markdown",
   "id": "18b2f879",
   "metadata": {},
   "source": [
    "This is python [logging](https://docs.python.org/3/library/logging.html), not hydra.\n",
    "Use this code when you want to write `log.info()` instead of `print()` during development, so that you could integrate your code into a `.py` experiment file right away."
   ]
  },
  {
   "cell_type": "code",
   "execution_count": 5,
   "id": "5c0b8cbf",
   "metadata": {},
   "outputs": [],
   "source": [
    "import logging\n",
    "import sys\n",
    "log = logging.getLogger(__name__)\n",
    "log.addHandler(logging.StreamHandler(sys.stdout))"
   ]
  },
  {
   "cell_type": "code",
   "execution_count": 6,
   "id": "bcfdddf6",
   "metadata": {},
   "outputs": [
    {
     "name": "stdout",
     "output_type": "stream",
     "text": [
      "info level message\n",
      "debug level message\n",
      "info level message\n"
     ]
    }
   ],
   "source": [
    "log.setLevel(logging.DEBUG)\n",
    "log.info('info level message')\n",
    "log.debug('debug level message')\n",
    "\n",
    "log.setLevel(logging.INFO) # May set to logging.DEBUG\n",
    "log.info('info level message')\n",
    "log.debug('debug level message')"
   ]
  }
 ],
 "metadata": {
  "kernelspec": {
   "display_name": "selfmodel",
   "language": "python",
   "name": "selfmodel"
  },
  "language_info": {
   "codemirror_mode": {
    "name": "ipython",
    "version": 3
   },
   "file_extension": ".py",
   "mimetype": "text/x-python",
   "name": "python",
   "nbconvert_exporter": "python",
   "pygments_lexer": "ipython3",
   "version": "3.9.12"
  }
 },
 "nbformat": 4,
 "nbformat_minor": 5
}
